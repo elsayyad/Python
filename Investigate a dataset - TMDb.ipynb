{
 "cells": [
  {
   "cell_type": "markdown",
   "metadata": {},
   "source": [
    "# Project: TMDb (The Movie Database) Dataset Investigation\n",
    "\n",
    "## Table of Contents\n",
    "<ul>\n",
    "<li><a href=\"#intro\">Introduction</a></li>\n",
    "<li><a href=\"#Questions\">Questions</a></li>\n",
    "<li><a href=\"#wrangling\">Data Wrangling</a></li>\n",
    "<li><a href=\"#eda\">Exploratory Data Analysis</a></li>\n",
    "<li><a href=\"#conclusions\">Conclusions</a></li>\n",
    "</ul>"
   ]
  },
  {
   "cell_type": "markdown",
   "metadata": {},
   "source": [
    "<a id='intro'></a>\n",
    "## Introduction\n",
    "The aim of the project is to investigate a dataset using Python along with external libraries and tools such as Anacondas, Pandas, NumPy and Matplotlib.\n",
    "\n",
    "This data set contains information about 10,000 movies collected from [The Movie Database (TMDb)](https://www.themoviedb.org/?language=en), including user ratings and revenue, while lacking profit which will be created. The Dataset features the movie name, vote score, vote count, genre, director, cast, revenue and budget along with other information.\n",
    "\n",
    "As an advanced extra step, we're thinking of writting a python web-scrapping script to fetch the budget values from IMDB and complete our missing values, but this will be done only if I have time.\n",
    "\n",
    "\n",
    "\n",
    "The project steps will be in the following order:\n",
    "\n",
    "** Step 1: Ask questions **\n",
    "\n",
    "Given a movie dataset, we will either ask questions based on it, or we ask questions first and gather data based on that later. In both cases, great questions help us focus on relevant parts of your data and direct your analysis towards meaningful insights.\n",
    "\n",
    "** Step 2: Wrangle data**\n",
    "\n",
    "gather, assess, clean. \n",
    "Assessing data to identify any problems in your data’s quality or structure, and clean our data by modifying, replacing, or removing data to ensure that your dataset is of the highest quality and as well-structured as possible.\n",
    "\n",
    "**Step 3: Perform EDA (Exploratory Data Analysis)**\n",
    "\n",
    "We explore and then augment our data to maximize the potential of your analyses, visualizations, and models. Exploring involves finding patterns in your data, visualizing relationships in your data, and building intuition about what you’re working with. \n",
    "\n",
    "**Step 4: Draw conclusions (or even make predictions)**\n",
    "\n",
    "This step is typically approached with machine learning or inferential statistics that are beyond the scope of this project, which will focus on drawing conclusions with descriptive statistics.\n",
    "\n"
   ]
  },
  {
   "cell_type": "markdown",
   "metadata": {},
   "source": [
    "<a id='questions'></a>\n",
    "## 1 Questions\n",
    "\n",
    "1- What are the genres that are popular from year to year?\n",
    "\n",
    "2- How many unique genres, What are their distribution?\n",
    "\n",
    "3- Which decade had the most movies, What are the movie distribution across the decades?\n",
    "\n",
    "4- What are the top profitable Movies?\n",
    "\n",
    "5- What is the most profitable movie in each Genre?\n",
    "\n",
    "6- What is the most repetitive genre for the 'highest profitable' movies ?\n",
    "\n",
    "7- Which directors and actors work with each other the most?\n",
    "\n",
    "8- Is there a Corelation between movie score and profit?\n",
    "\n",
    "9- Is there a Corelation between movie score and popularity?\n",
    "\n",
    "10- Whom are some of the dominant actors?\n"
   ]
  },
  {
   "cell_type": "code",
   "execution_count": 1,
   "metadata": {
    "collapsed": true
   },
   "outputs": [],
   "source": [
    "# Using this cell to set up import statements for all of the packages that I need\n",
    "import pandas as pd\n",
    "import numpy as np\n",
    "from matplotlib import pyplot as plt\n",
    "% matplotlib inline"
   ]
  },
  {
   "cell_type": "markdown",
   "metadata": {},
   "source": [
    "<a id='wrangling'></a>\n",
    "## 2 Data Wrangling\n",
    "\n",
    "In this section of the report, we will load in the data, check for cleanliness, and then trim and clean our dataset for analysis.\n",
    "\n",
    "### Assessing General Properties"
   ]
  },
  {
   "cell_type": "code",
   "execution_count": 2,
   "metadata": {},
   "outputs": [
    {
     "data": {
      "text/html": [
       "<div>\n",
       "<style scoped>\n",
       "    .dataframe tbody tr th:only-of-type {\n",
       "        vertical-align: middle;\n",
       "    }\n",
       "\n",
       "    .dataframe tbody tr th {\n",
       "        vertical-align: top;\n",
       "    }\n",
       "\n",
       "    .dataframe thead th {\n",
       "        text-align: right;\n",
       "    }\n",
       "</style>\n",
       "<table border=\"1\" class=\"dataframe\">\n",
       "  <thead>\n",
       "    <tr style=\"text-align: right;\">\n",
       "      <th></th>\n",
       "      <th>id</th>\n",
       "      <th>imdb_id</th>\n",
       "      <th>popularity</th>\n",
       "      <th>budget</th>\n",
       "      <th>revenue</th>\n",
       "      <th>original_title</th>\n",
       "      <th>cast</th>\n",
       "      <th>homepage</th>\n",
       "      <th>director</th>\n",
       "      <th>tagline</th>\n",
       "      <th>...</th>\n",
       "      <th>overview</th>\n",
       "      <th>runtime</th>\n",
       "      <th>genres</th>\n",
       "      <th>production_companies</th>\n",
       "      <th>release_date</th>\n",
       "      <th>vote_count</th>\n",
       "      <th>vote_average</th>\n",
       "      <th>release_year</th>\n",
       "      <th>budget_adj</th>\n",
       "      <th>revenue_adj</th>\n",
       "    </tr>\n",
       "  </thead>\n",
       "  <tbody>\n",
       "    <tr>\n",
       "      <th>0</th>\n",
       "      <td>135397</td>\n",
       "      <td>tt0369610</td>\n",
       "      <td>32.985763</td>\n",
       "      <td>150000000</td>\n",
       "      <td>1513528810</td>\n",
       "      <td>Jurassic World</td>\n",
       "      <td>Chris Pratt|Bryce Dallas Howard|Irrfan Khan|Vi...</td>\n",
       "      <td>http://www.jurassicworld.com/</td>\n",
       "      <td>Colin Trevorrow</td>\n",
       "      <td>The park is open.</td>\n",
       "      <td>...</td>\n",
       "      <td>Twenty-two years after the events of Jurassic ...</td>\n",
       "      <td>124</td>\n",
       "      <td>Action|Adventure|Science Fiction|Thriller</td>\n",
       "      <td>Universal Studios|Amblin Entertainment|Legenda...</td>\n",
       "      <td>6/9/15</td>\n",
       "      <td>5562</td>\n",
       "      <td>6.5</td>\n",
       "      <td>2015</td>\n",
       "      <td>1.379999e+08</td>\n",
       "      <td>1.392446e+09</td>\n",
       "    </tr>\n",
       "    <tr>\n",
       "      <th>1</th>\n",
       "      <td>76341</td>\n",
       "      <td>tt1392190</td>\n",
       "      <td>28.419936</td>\n",
       "      <td>150000000</td>\n",
       "      <td>378436354</td>\n",
       "      <td>Mad Max: Fury Road</td>\n",
       "      <td>Tom Hardy|Charlize Theron|Hugh Keays-Byrne|Nic...</td>\n",
       "      <td>http://www.madmaxmovie.com/</td>\n",
       "      <td>George Miller</td>\n",
       "      <td>What a Lovely Day.</td>\n",
       "      <td>...</td>\n",
       "      <td>An apocalyptic story set in the furthest reach...</td>\n",
       "      <td>120</td>\n",
       "      <td>Action|Adventure|Science Fiction|Thriller</td>\n",
       "      <td>Village Roadshow Pictures|Kennedy Miller Produ...</td>\n",
       "      <td>5/13/15</td>\n",
       "      <td>6185</td>\n",
       "      <td>7.1</td>\n",
       "      <td>2015</td>\n",
       "      <td>1.379999e+08</td>\n",
       "      <td>3.481613e+08</td>\n",
       "    </tr>\n",
       "    <tr>\n",
       "      <th>2</th>\n",
       "      <td>262500</td>\n",
       "      <td>tt2908446</td>\n",
       "      <td>13.112507</td>\n",
       "      <td>110000000</td>\n",
       "      <td>295238201</td>\n",
       "      <td>Insurgent</td>\n",
       "      <td>Shailene Woodley|Theo James|Kate Winslet|Ansel...</td>\n",
       "      <td>http://www.thedivergentseries.movie/#insurgent</td>\n",
       "      <td>Robert Schwentke</td>\n",
       "      <td>One Choice Can Destroy You</td>\n",
       "      <td>...</td>\n",
       "      <td>Beatrice Prior must confront her inner demons ...</td>\n",
       "      <td>119</td>\n",
       "      <td>Adventure|Science Fiction|Thriller</td>\n",
       "      <td>Summit Entertainment|Mandeville Films|Red Wago...</td>\n",
       "      <td>3/18/15</td>\n",
       "      <td>2480</td>\n",
       "      <td>6.3</td>\n",
       "      <td>2015</td>\n",
       "      <td>1.012000e+08</td>\n",
       "      <td>2.716190e+08</td>\n",
       "    </tr>\n",
       "    <tr>\n",
       "      <th>3</th>\n",
       "      <td>140607</td>\n",
       "      <td>tt2488496</td>\n",
       "      <td>11.173104</td>\n",
       "      <td>200000000</td>\n",
       "      <td>2068178225</td>\n",
       "      <td>Star Wars: The Force Awakens</td>\n",
       "      <td>Harrison Ford|Mark Hamill|Carrie Fisher|Adam D...</td>\n",
       "      <td>http://www.starwars.com/films/star-wars-episod...</td>\n",
       "      <td>J.J. Abrams</td>\n",
       "      <td>Every generation has a story.</td>\n",
       "      <td>...</td>\n",
       "      <td>Thirty years after defeating the Galactic Empi...</td>\n",
       "      <td>136</td>\n",
       "      <td>Action|Adventure|Science Fiction|Fantasy</td>\n",
       "      <td>Lucasfilm|Truenorth Productions|Bad Robot</td>\n",
       "      <td>12/15/15</td>\n",
       "      <td>5292</td>\n",
       "      <td>7.5</td>\n",
       "      <td>2015</td>\n",
       "      <td>1.839999e+08</td>\n",
       "      <td>1.902723e+09</td>\n",
       "    </tr>\n",
       "    <tr>\n",
       "      <th>4</th>\n",
       "      <td>168259</td>\n",
       "      <td>tt2820852</td>\n",
       "      <td>9.335014</td>\n",
       "      <td>190000000</td>\n",
       "      <td>1506249360</td>\n",
       "      <td>Furious 7</td>\n",
       "      <td>Vin Diesel|Paul Walker|Jason Statham|Michelle ...</td>\n",
       "      <td>http://www.furious7.com/</td>\n",
       "      <td>James Wan</td>\n",
       "      <td>Vengeance Hits Home</td>\n",
       "      <td>...</td>\n",
       "      <td>Deckard Shaw seeks revenge against Dominic Tor...</td>\n",
       "      <td>137</td>\n",
       "      <td>Action|Crime|Thriller</td>\n",
       "      <td>Universal Pictures|Original Film|Media Rights ...</td>\n",
       "      <td>4/1/15</td>\n",
       "      <td>2947</td>\n",
       "      <td>7.3</td>\n",
       "      <td>2015</td>\n",
       "      <td>1.747999e+08</td>\n",
       "      <td>1.385749e+09</td>\n",
       "    </tr>\n",
       "  </tbody>\n",
       "</table>\n",
       "<p>5 rows × 21 columns</p>\n",
       "</div>"
      ],
      "text/plain": [
       "       id    imdb_id  popularity     budget     revenue  \\\n",
       "0  135397  tt0369610   32.985763  150000000  1513528810   \n",
       "1   76341  tt1392190   28.419936  150000000   378436354   \n",
       "2  262500  tt2908446   13.112507  110000000   295238201   \n",
       "3  140607  tt2488496   11.173104  200000000  2068178225   \n",
       "4  168259  tt2820852    9.335014  190000000  1506249360   \n",
       "\n",
       "                 original_title  \\\n",
       "0                Jurassic World   \n",
       "1            Mad Max: Fury Road   \n",
       "2                     Insurgent   \n",
       "3  Star Wars: The Force Awakens   \n",
       "4                     Furious 7   \n",
       "\n",
       "                                                cast  \\\n",
       "0  Chris Pratt|Bryce Dallas Howard|Irrfan Khan|Vi...   \n",
       "1  Tom Hardy|Charlize Theron|Hugh Keays-Byrne|Nic...   \n",
       "2  Shailene Woodley|Theo James|Kate Winslet|Ansel...   \n",
       "3  Harrison Ford|Mark Hamill|Carrie Fisher|Adam D...   \n",
       "4  Vin Diesel|Paul Walker|Jason Statham|Michelle ...   \n",
       "\n",
       "                                            homepage          director  \\\n",
       "0                      http://www.jurassicworld.com/   Colin Trevorrow   \n",
       "1                        http://www.madmaxmovie.com/     George Miller   \n",
       "2     http://www.thedivergentseries.movie/#insurgent  Robert Schwentke   \n",
       "3  http://www.starwars.com/films/star-wars-episod...       J.J. Abrams   \n",
       "4                           http://www.furious7.com/         James Wan   \n",
       "\n",
       "                         tagline      ...       \\\n",
       "0              The park is open.      ...        \n",
       "1             What a Lovely Day.      ...        \n",
       "2     One Choice Can Destroy You      ...        \n",
       "3  Every generation has a story.      ...        \n",
       "4            Vengeance Hits Home      ...        \n",
       "\n",
       "                                            overview runtime  \\\n",
       "0  Twenty-two years after the events of Jurassic ...     124   \n",
       "1  An apocalyptic story set in the furthest reach...     120   \n",
       "2  Beatrice Prior must confront her inner demons ...     119   \n",
       "3  Thirty years after defeating the Galactic Empi...     136   \n",
       "4  Deckard Shaw seeks revenge against Dominic Tor...     137   \n",
       "\n",
       "                                      genres  \\\n",
       "0  Action|Adventure|Science Fiction|Thriller   \n",
       "1  Action|Adventure|Science Fiction|Thriller   \n",
       "2         Adventure|Science Fiction|Thriller   \n",
       "3   Action|Adventure|Science Fiction|Fantasy   \n",
       "4                      Action|Crime|Thriller   \n",
       "\n",
       "                                production_companies release_date vote_count  \\\n",
       "0  Universal Studios|Amblin Entertainment|Legenda...       6/9/15       5562   \n",
       "1  Village Roadshow Pictures|Kennedy Miller Produ...      5/13/15       6185   \n",
       "2  Summit Entertainment|Mandeville Films|Red Wago...      3/18/15       2480   \n",
       "3          Lucasfilm|Truenorth Productions|Bad Robot     12/15/15       5292   \n",
       "4  Universal Pictures|Original Film|Media Rights ...       4/1/15       2947   \n",
       "\n",
       "   vote_average  release_year    budget_adj   revenue_adj  \n",
       "0           6.5          2015  1.379999e+08  1.392446e+09  \n",
       "1           7.1          2015  1.379999e+08  3.481613e+08  \n",
       "2           6.3          2015  1.012000e+08  2.716190e+08  \n",
       "3           7.5          2015  1.839999e+08  1.902723e+09  \n",
       "4           7.3          2015  1.747999e+08  1.385749e+09  \n",
       "\n",
       "[5 rows x 21 columns]"
      ]
     },
     "execution_count": 2,
     "metadata": {},
     "output_type": "execute_result"
    }
   ],
   "source": [
    "# Load data and print out a few lines. Perform operations to inspect data and have an idea how the data look like.\n",
    "tmdb_df = pd.read_csv('tmdb-movies.csv')\n",
    "tmdb_df.head()"
   ]
  },
  {
   "cell_type": "markdown",
   "metadata": {},
   "source": [
    "#### Multi-valued Columns\n",
    "We can see here that we have 3 data types that are multi-valued, this will impact our aggregations, gropping and hence the visualization which makes answering questions harder.\n",
    "This will be addressed in the cleaning part. \n",
    "\n",
    "The Multi-Value columns are:\n",
    "- Cast\n",
    "- Genre\n",
    "- Production Company"
   ]
  },
  {
   "cell_type": "markdown",
   "metadata": {},
   "source": [
    "#### Skimming and Scanning Dataset General Proprties\n",
    "In the upcoming section, we will investigate the dataset briefly to identify its genral proprties through the below methods:\n",
    "- Shape: This will determine the dataset size (rows and columns)\n",
    "- info: This will identify three major things\n",
    "        \n",
    "        a) The column names.\n",
    "        b) The Null values.\n",
    "        c) The data type of each column\n",
    "        \n",
    "- nunique: Number of unique values in each column\n",
    "- describe: This will provide basic inution about dataset's mean, std, min and max numerical values.\n"
   ]
  },
  {
   "cell_type": "code",
   "execution_count": 3,
   "metadata": {},
   "outputs": [
    {
     "data": {
      "text/plain": [
       "(10866, 21)"
      ]
     },
     "execution_count": 3,
     "metadata": {},
     "output_type": "execute_result"
    }
   ],
   "source": [
    "# We can see dataset is around 10K rows and 21 columns before cleaning\n",
    "tmdb_df.shape"
   ]
  },
  {
   "cell_type": "code",
   "execution_count": 4,
   "metadata": {},
   "outputs": [
    {
     "name": "stdout",
     "output_type": "stream",
     "text": [
      "<class 'pandas.core.frame.DataFrame'>\n",
      "RangeIndex: 10866 entries, 0 to 10865\n",
      "Data columns (total 21 columns):\n",
      "id                      10866 non-null int64\n",
      "imdb_id                 10856 non-null object\n",
      "popularity              10866 non-null float64\n",
      "budget                  10866 non-null int64\n",
      "revenue                 10866 non-null int64\n",
      "original_title          10866 non-null object\n",
      "cast                    10790 non-null object\n",
      "homepage                2936 non-null object\n",
      "director                10822 non-null object\n",
      "tagline                 8042 non-null object\n",
      "keywords                9373 non-null object\n",
      "overview                10862 non-null object\n",
      "runtime                 10866 non-null int64\n",
      "genres                  10843 non-null object\n",
      "production_companies    9836 non-null object\n",
      "release_date            10866 non-null object\n",
      "vote_count              10866 non-null int64\n",
      "vote_average            10866 non-null float64\n",
      "release_year            10866 non-null int64\n",
      "budget_adj              10866 non-null float64\n",
      "revenue_adj             10866 non-null float64\n",
      "dtypes: float64(4), int64(6), object(11)\n",
      "memory usage: 1.7+ MB\n"
     ]
    }
   ],
   "source": [
    "# Below is each datatype for each column along with its name the null values. \n",
    "# You can know It's null if the row number is less than the dataset total row number.\n",
    "tmdb_df.info()"
   ]
  },
  {
   "cell_type": "code",
   "execution_count": 5,
   "metadata": {},
   "outputs": [
    {
     "data": {
      "text/plain": [
       "id                      10865\n",
       "imdb_id                 10855\n",
       "popularity              10814\n",
       "budget                    557\n",
       "revenue                  4702\n",
       "original_title          10571\n",
       "cast                    10719\n",
       "homepage                 2896\n",
       "director                 5067\n",
       "tagline                  7997\n",
       "keywords                 8804\n",
       "overview                10847\n",
       "runtime                   247\n",
       "genres                   2039\n",
       "production_companies     7445\n",
       "release_date             5909\n",
       "vote_count               1289\n",
       "vote_average               72\n",
       "release_year               56\n",
       "budget_adj               2614\n",
       "revenue_adj              4840\n",
       "dtype: int64"
      ]
     },
     "execution_count": 5,
     "metadata": {},
     "output_type": "execute_result"
    }
   ],
   "source": [
    "# Outputting the unique values\n",
    "tmdb_df.nunique()"
   ]
  },
  {
   "cell_type": "code",
   "execution_count": 6,
   "metadata": {},
   "outputs": [
    {
     "data": {
      "text/html": [
       "<div>\n",
       "<style scoped>\n",
       "    .dataframe tbody tr th:only-of-type {\n",
       "        vertical-align: middle;\n",
       "    }\n",
       "\n",
       "    .dataframe tbody tr th {\n",
       "        vertical-align: top;\n",
       "    }\n",
       "\n",
       "    .dataframe thead th {\n",
       "        text-align: right;\n",
       "    }\n",
       "</style>\n",
       "<table border=\"1\" class=\"dataframe\">\n",
       "  <thead>\n",
       "    <tr style=\"text-align: right;\">\n",
       "      <th></th>\n",
       "      <th>id</th>\n",
       "      <th>popularity</th>\n",
       "      <th>budget</th>\n",
       "      <th>revenue</th>\n",
       "      <th>runtime</th>\n",
       "      <th>vote_count</th>\n",
       "      <th>vote_average</th>\n",
       "      <th>release_year</th>\n",
       "      <th>budget_adj</th>\n",
       "      <th>revenue_adj</th>\n",
       "    </tr>\n",
       "  </thead>\n",
       "  <tbody>\n",
       "    <tr>\n",
       "      <th>count</th>\n",
       "      <td>10866.000000</td>\n",
       "      <td>10866.000000</td>\n",
       "      <td>1.086600e+04</td>\n",
       "      <td>1.086600e+04</td>\n",
       "      <td>10866.000000</td>\n",
       "      <td>10866.000000</td>\n",
       "      <td>10866.000000</td>\n",
       "      <td>10866.000000</td>\n",
       "      <td>1.086600e+04</td>\n",
       "      <td>1.086600e+04</td>\n",
       "    </tr>\n",
       "    <tr>\n",
       "      <th>mean</th>\n",
       "      <td>66064.177434</td>\n",
       "      <td>0.646441</td>\n",
       "      <td>1.462570e+07</td>\n",
       "      <td>3.982332e+07</td>\n",
       "      <td>102.070863</td>\n",
       "      <td>217.389748</td>\n",
       "      <td>5.974922</td>\n",
       "      <td>2001.322658</td>\n",
       "      <td>1.755104e+07</td>\n",
       "      <td>5.136436e+07</td>\n",
       "    </tr>\n",
       "    <tr>\n",
       "      <th>std</th>\n",
       "      <td>92130.136561</td>\n",
       "      <td>1.000185</td>\n",
       "      <td>3.091321e+07</td>\n",
       "      <td>1.170035e+08</td>\n",
       "      <td>31.381405</td>\n",
       "      <td>575.619058</td>\n",
       "      <td>0.935142</td>\n",
       "      <td>12.812941</td>\n",
       "      <td>3.430616e+07</td>\n",
       "      <td>1.446325e+08</td>\n",
       "    </tr>\n",
       "    <tr>\n",
       "      <th>min</th>\n",
       "      <td>5.000000</td>\n",
       "      <td>0.000065</td>\n",
       "      <td>0.000000e+00</td>\n",
       "      <td>0.000000e+00</td>\n",
       "      <td>0.000000</td>\n",
       "      <td>10.000000</td>\n",
       "      <td>1.500000</td>\n",
       "      <td>1960.000000</td>\n",
       "      <td>0.000000e+00</td>\n",
       "      <td>0.000000e+00</td>\n",
       "    </tr>\n",
       "    <tr>\n",
       "      <th>25%</th>\n",
       "      <td>10596.250000</td>\n",
       "      <td>0.207583</td>\n",
       "      <td>0.000000e+00</td>\n",
       "      <td>0.000000e+00</td>\n",
       "      <td>90.000000</td>\n",
       "      <td>17.000000</td>\n",
       "      <td>5.400000</td>\n",
       "      <td>1995.000000</td>\n",
       "      <td>0.000000e+00</td>\n",
       "      <td>0.000000e+00</td>\n",
       "    </tr>\n",
       "    <tr>\n",
       "      <th>50%</th>\n",
       "      <td>20669.000000</td>\n",
       "      <td>0.383856</td>\n",
       "      <td>0.000000e+00</td>\n",
       "      <td>0.000000e+00</td>\n",
       "      <td>99.000000</td>\n",
       "      <td>38.000000</td>\n",
       "      <td>6.000000</td>\n",
       "      <td>2006.000000</td>\n",
       "      <td>0.000000e+00</td>\n",
       "      <td>0.000000e+00</td>\n",
       "    </tr>\n",
       "    <tr>\n",
       "      <th>75%</th>\n",
       "      <td>75610.000000</td>\n",
       "      <td>0.713817</td>\n",
       "      <td>1.500000e+07</td>\n",
       "      <td>2.400000e+07</td>\n",
       "      <td>111.000000</td>\n",
       "      <td>145.750000</td>\n",
       "      <td>6.600000</td>\n",
       "      <td>2011.000000</td>\n",
       "      <td>2.085325e+07</td>\n",
       "      <td>3.369710e+07</td>\n",
       "    </tr>\n",
       "    <tr>\n",
       "      <th>max</th>\n",
       "      <td>417859.000000</td>\n",
       "      <td>32.985763</td>\n",
       "      <td>4.250000e+08</td>\n",
       "      <td>2.781506e+09</td>\n",
       "      <td>900.000000</td>\n",
       "      <td>9767.000000</td>\n",
       "      <td>9.200000</td>\n",
       "      <td>2015.000000</td>\n",
       "      <td>4.250000e+08</td>\n",
       "      <td>2.827124e+09</td>\n",
       "    </tr>\n",
       "  </tbody>\n",
       "</table>\n",
       "</div>"
      ],
      "text/plain": [
       "                  id    popularity        budget       revenue       runtime  \\\n",
       "count   10866.000000  10866.000000  1.086600e+04  1.086600e+04  10866.000000   \n",
       "mean    66064.177434      0.646441  1.462570e+07  3.982332e+07    102.070863   \n",
       "std     92130.136561      1.000185  3.091321e+07  1.170035e+08     31.381405   \n",
       "min         5.000000      0.000065  0.000000e+00  0.000000e+00      0.000000   \n",
       "25%     10596.250000      0.207583  0.000000e+00  0.000000e+00     90.000000   \n",
       "50%     20669.000000      0.383856  0.000000e+00  0.000000e+00     99.000000   \n",
       "75%     75610.000000      0.713817  1.500000e+07  2.400000e+07    111.000000   \n",
       "max    417859.000000     32.985763  4.250000e+08  2.781506e+09    900.000000   \n",
       "\n",
       "         vote_count  vote_average  release_year    budget_adj   revenue_adj  \n",
       "count  10866.000000  10866.000000  10866.000000  1.086600e+04  1.086600e+04  \n",
       "mean     217.389748      5.974922   2001.322658  1.755104e+07  5.136436e+07  \n",
       "std      575.619058      0.935142     12.812941  3.430616e+07  1.446325e+08  \n",
       "min       10.000000      1.500000   1960.000000  0.000000e+00  0.000000e+00  \n",
       "25%       17.000000      5.400000   1995.000000  0.000000e+00  0.000000e+00  \n",
       "50%       38.000000      6.000000   2006.000000  0.000000e+00  0.000000e+00  \n",
       "75%      145.750000      6.600000   2011.000000  2.085325e+07  3.369710e+07  \n",
       "max     9767.000000      9.200000   2015.000000  4.250000e+08  2.827124e+09  "
      ]
     },
     "execution_count": 6,
     "metadata": {},
     "output_type": "execute_result"
    }
   ],
   "source": [
    "## Porviding mean, std min, max and quartiles for each numerical value in the dataset.\n",
    "tmdb_df.describe()"
   ]
  },
  {
   "cell_type": "markdown",
   "metadata": {},
   "source": [
    "#### Duplicates\n",
    "Below we can run function duplicated to check the duplicate columns. This output Boolean for each row, applying function sum() on it will only sum the True values, and hence we know the count of duplicate row.\n",
    "\n",
    "We can see we only have 1 duplicate row, which is the movie 'Tekken'.\n",
    "\n",
    "This will be remove during cleaning."
   ]
  },
  {
   "cell_type": "code",
   "execution_count": 7,
   "metadata": {},
   "outputs": [
    {
     "name": "stdout",
     "output_type": "stream",
     "text": [
      "1\n"
     ]
    },
    {
     "data": {
      "text/html": [
       "<div>\n",
       "<style scoped>\n",
       "    .dataframe tbody tr th:only-of-type {\n",
       "        vertical-align: middle;\n",
       "    }\n",
       "\n",
       "    .dataframe tbody tr th {\n",
       "        vertical-align: top;\n",
       "    }\n",
       "\n",
       "    .dataframe thead th {\n",
       "        text-align: right;\n",
       "    }\n",
       "</style>\n",
       "<table border=\"1\" class=\"dataframe\">\n",
       "  <thead>\n",
       "    <tr style=\"text-align: right;\">\n",
       "      <th></th>\n",
       "      <th>id</th>\n",
       "      <th>imdb_id</th>\n",
       "      <th>popularity</th>\n",
       "      <th>budget</th>\n",
       "      <th>revenue</th>\n",
       "      <th>original_title</th>\n",
       "      <th>cast</th>\n",
       "      <th>homepage</th>\n",
       "      <th>director</th>\n",
       "      <th>tagline</th>\n",
       "      <th>...</th>\n",
       "      <th>overview</th>\n",
       "      <th>runtime</th>\n",
       "      <th>genres</th>\n",
       "      <th>production_companies</th>\n",
       "      <th>release_date</th>\n",
       "      <th>vote_count</th>\n",
       "      <th>vote_average</th>\n",
       "      <th>release_year</th>\n",
       "      <th>budget_adj</th>\n",
       "      <th>revenue_adj</th>\n",
       "    </tr>\n",
       "  </thead>\n",
       "  <tbody>\n",
       "    <tr>\n",
       "      <th>2090</th>\n",
       "      <td>42194</td>\n",
       "      <td>tt0411951</td>\n",
       "      <td>0.59643</td>\n",
       "      <td>30000000</td>\n",
       "      <td>967000</td>\n",
       "      <td>TEKKEN</td>\n",
       "      <td>Jon Foo|Kelly Overton|Cary-Hiroyuki Tagawa|Ian...</td>\n",
       "      <td>NaN</td>\n",
       "      <td>Dwight H. Little</td>\n",
       "      <td>Survival is no game</td>\n",
       "      <td>...</td>\n",
       "      <td>In the year of 2039, after World Wars destroy ...</td>\n",
       "      <td>92</td>\n",
       "      <td>Crime|Drama|Action|Thriller|Science Fiction</td>\n",
       "      <td>Namco|Light Song Films</td>\n",
       "      <td>3/20/10</td>\n",
       "      <td>110</td>\n",
       "      <td>5.0</td>\n",
       "      <td>2010</td>\n",
       "      <td>30000000.0</td>\n",
       "      <td>967000.0</td>\n",
       "    </tr>\n",
       "  </tbody>\n",
       "</table>\n",
       "<p>1 rows × 21 columns</p>\n",
       "</div>"
      ],
      "text/plain": [
       "         id    imdb_id  popularity    budget  revenue original_title  \\\n",
       "2090  42194  tt0411951     0.59643  30000000   967000         TEKKEN   \n",
       "\n",
       "                                                   cast homepage  \\\n",
       "2090  Jon Foo|Kelly Overton|Cary-Hiroyuki Tagawa|Ian...      NaN   \n",
       "\n",
       "              director              tagline     ...       \\\n",
       "2090  Dwight H. Little  Survival is no game     ...        \n",
       "\n",
       "                                               overview runtime  \\\n",
       "2090  In the year of 2039, after World Wars destroy ...      92   \n",
       "\n",
       "                                           genres    production_companies  \\\n",
       "2090  Crime|Drama|Action|Thriller|Science Fiction  Namco|Light Song Films   \n",
       "\n",
       "     release_date vote_count  vote_average  release_year  budget_adj  \\\n",
       "2090      3/20/10        110           5.0          2010  30000000.0   \n",
       "\n",
       "      revenue_adj  \n",
       "2090     967000.0  \n",
       "\n",
       "[1 rows x 21 columns]"
      ]
     },
     "execution_count": 7,
     "metadata": {},
     "output_type": "execute_result"
    }
   ],
   "source": [
    "# Checking Number of Duplicate Data. We can see we have only one duplicate row.\n",
    "print(sum(tmdb_df.duplicated()))\n",
    "tmdb_df[tmdb_df.duplicated() == True]"
   ]
  },
  {
   "cell_type": "markdown",
   "metadata": {},
   "source": [
    "#### Null Values\n",
    "\n",
    "Cleaning Null values will allow us work further, because with Null we won't be able to run computations, grouping or any other functions. We can see we have 9 columns that include Null Values, and the latter command will print the count of NULL row in each column. Note we will only remove the Nulls of the columns that we will work on for our related Questions, so we can have as much information as possible. Some other columns will be dropped latter."
   ]
  },
  {
   "cell_type": "code",
   "execution_count": 8,
   "metadata": {},
   "outputs": [
    {
     "data": {
      "text/plain": [
       "Index([u'imdb_id', u'cast', u'homepage', u'director', u'tagline', u'keywords',\n",
       "       u'overview', u'genres', u'production_companies'],\n",
       "      dtype='object')"
      ]
     },
     "execution_count": 8,
     "metadata": {},
     "output_type": "execute_result"
    }
   ],
   "source": [
    "# Checking for Null Values\n",
    "tmdb_df.columns[tmdb_df.isnull().any()]"
   ]
  },
  {
   "cell_type": "code",
   "execution_count": 9,
   "metadata": {},
   "outputs": [
    {
     "data": {
      "text/plain": [
       "homepage                7930\n",
       "tagline                 2824\n",
       "keywords                1493\n",
       "production_companies    1030\n",
       "cast                      76\n",
       "director                  44\n",
       "genres                    23\n",
       "imdb_id                   10\n",
       "overview                   4\n",
       "popularity                 0\n",
       "budget                     0\n",
       "revenue                    0\n",
       "original_title             0\n",
       "revenue_adj                0\n",
       "budget_adj                 0\n",
       "runtime                    0\n",
       "release_date               0\n",
       "vote_count                 0\n",
       "vote_average               0\n",
       "release_year               0\n",
       "id                         0\n",
       "dtype: int64"
      ]
     },
     "execution_count": 9,
     "metadata": {},
     "output_type": "execute_result"
    }
   ],
   "source": [
    "# Counting Number of Null Values\n",
    "tmdb_df.isnull().sum().sort_values(ascending =False)"
   ]
  },
  {
   "cell_type": "markdown",
   "metadata": {},
   "source": [
    "#### Missing Values\n",
    "\n",
    "Since most of important questions are around profit, we will need to deduce profit first as revenue minus the budget. However, the problem here is that we have missing budgets and missing revenues, and in other times both of them missing. \n",
    "\n",
    "The below commands will pring th enumber of missing values.\n",
    "\n",
    "Since we will deduce the profit, you can see the query, for non-zeroed values for both revenues and profits, outputs 3855. This will be the number of rows that will have the profit either as a wining film or as a loosing one."
   ]
  },
  {
   "cell_type": "code",
   "execution_count": 10,
   "metadata": {},
   "outputs": [
    {
     "data": {
      "text/plain": [
       "5696"
      ]
     },
     "execution_count": 10,
     "metadata": {},
     "output_type": "execute_result"
    }
   ],
   "source": [
    "# Number of missing budget values\n",
    "sum(tmdb_df['budget']==0)  "
   ]
  },
  {
   "cell_type": "code",
   "execution_count": 11,
   "metadata": {},
   "outputs": [
    {
     "data": {
      "text/plain": [
       "6016"
      ]
     },
     "execution_count": 11,
     "metadata": {},
     "output_type": "execute_result"
    }
   ],
   "source": [
    "# Number of missing revenue revenue\n",
    "sum(tmdb_df['revenue']==0)      "
   ]
  },
  {
   "cell_type": "code",
   "execution_count": 12,
   "metadata": {},
   "outputs": [
    {
     "data": {
      "text/plain": [
       "4701"
      ]
     },
     "execution_count": 12,
     "metadata": {},
     "output_type": "execute_result"
    }
   ],
   "source": [
    "# Number of non-missing budget and revenue rows\n",
    "sum((tmdb_df['budget'] == 0) & (tmdb_df['revenue'] == 0))"
   ]
  },
  {
   "cell_type": "code",
   "execution_count": 13,
   "metadata": {},
   "outputs": [
    {
     "data": {
      "text/plain": [
       "3855"
      ]
     },
     "execution_count": 13,
     "metadata": {},
     "output_type": "execute_result"
    }
   ],
   "source": [
    "# Number of missing budget and revenue rows\n",
    "sum((tmdb_df['budget'] != 0) & (tmdb_df['revenue'] != 0))"
   ]
  },
  {
   "cell_type": "markdown",
   "metadata": {},
   "source": [
    "### Data Cleaning"
   ]
  },
  {
   "cell_type": "markdown",
   "metadata": {},
   "source": [
    "In this part of Data Wrangling (Data Cleaning), we will attempt to clean the data. Data can be cleaned in several ways, for instance we will:\n",
    "- Remove the Duplicate row (We only have one)\n",
    "- Drop Columns that we won't need like the homepage URL and taglines.\n",
    "- We will importantly drop NULL Columns, because without dropping the NULL Values, mathemtical operations and other functions can be hardly applied on such columns.\n",
    "- Convert Multi-Valued columns into a single one, so we can aggregate our classes more easily. For example, after converting Genres to a single-valued, we found we have 20 unique genres.\n",
    "- Convert Cast to a single valued to take the main star of the movie."
   ]
  },
  {
   "cell_type": "code",
   "execution_count": 14,
   "metadata": {},
   "outputs": [
    {
     "data": {
      "text/plain": [
       "0"
      ]
     },
     "execution_count": 14,
     "metadata": {},
     "output_type": "execute_result"
    }
   ],
   "source": [
    "# After discussing the structure of the data and any problems that need to be\n",
    "#   cleaned, perform those cleaning steps in the second part of this section.\n",
    "\n",
    "# Removing Duplicate Data and Verifying it's removed\n",
    "tmdb_df.drop_duplicates(inplace=True)\n",
    "sum(tmdb_df.duplicated())"
   ]
  },
  {
   "cell_type": "code",
   "execution_count": 15,
   "metadata": {
    "collapsed": true
   },
   "outputs": [],
   "source": [
    "# Dropping columns that are no-use to quesitons listed\n",
    "tmdb_df.drop(['homepage','tagline'], axis=1, inplace=True)"
   ]
  },
  {
   "cell_type": "code",
   "execution_count": 16,
   "metadata": {
    "collapsed": true
   },
   "outputs": [],
   "source": [
    "# Dropping Null\n",
    "tmdb_df.dropna(subset=['genres'],inplace=True)\n",
    "tmdb_df.dropna(subset=['cast'],inplace=True)"
   ]
  },
  {
   "cell_type": "code",
   "execution_count": 17,
   "metadata": {
    "collapsed": true
   },
   "outputs": [],
   "source": [
    "# Converting release_date to a date format\n",
    "tmdb_df['release_date'] = pd.to_datetime(tmdb_df['release_date'])"
   ]
  },
  {
   "cell_type": "markdown",
   "metadata": {},
   "source": [
    "> **Hint**: In the below cell, we will split the values at the pipe '|' then take the 1st split and write it in the same column"
   ]
  },
  {
   "cell_type": "code",
   "execution_count": 18,
   "metadata": {
    "collapsed": true
   },
   "outputs": [],
   "source": [
    "# Use this, and more code cells, to explore your data. Don't forget to add\n",
    "#   Markdown cells to document your observations and findings.\n",
    "tmdb_df['genres']=tmdb_df['genres'].apply(lambda x: x.split('|')[0])"
   ]
  },
  {
   "cell_type": "code",
   "execution_count": 19,
   "metadata": {},
   "outputs": [
    {
     "data": {
      "text/plain": [
       "genres\n",
       "Action             1589\n",
       "Adventure           585\n",
       "Animation           379\n",
       "Comedy             2319\n",
       "Crime               380\n",
       "Documentary         392\n",
       "Drama              2449\n",
       "Family              143\n",
       "Fantasy             271\n",
       "Foreign               8\n",
       "History              44\n",
       "Horror              915\n",
       "Music               100\n",
       "Mystery             125\n",
       "Romance             186\n",
       "Science Fiction     213\n",
       "TV Movie             78\n",
       "Thriller            491\n",
       "War                  58\n",
       "Western              42\n",
       "Name: id, dtype: int64"
      ]
     },
     "execution_count": 19,
     "metadata": {},
     "output_type": "execute_result"
    }
   ],
   "source": [
    "tmdb_df.groupby('genres')['id'].nunique()"
   ]
  },
  {
   "cell_type": "code",
   "execution_count": 20,
   "metadata": {
    "collapsed": true
   },
   "outputs": [],
   "source": [
    "tmdb_df['cast']=tmdb_df['cast'].apply(lambda x: x.split('|')[0])"
   ]
  },
  {
   "cell_type": "markdown",
   "metadata": {},
   "source": [
    "Since we have around 55 years, we will group the years by decades so it can be easier to visualize it and present insights as per decade rather than the year repetitively. You can see the more recent the decade is, the more movies we have, meaning we have more recent movies than older movies."
   ]
  },
  {
   "cell_type": "code",
   "execution_count": 21,
   "metadata": {},
   "outputs": [
    {
     "name": "stdout",
     "output_type": "stream",
     "text": [
      "1960s: 359 movies\n",
      "1970s: 505 movies\n",
      "1980s: 1055 movies\n",
      "1990s: 1761 movies\n",
      "2000s: 3537 movies\n",
      "2010s: 3550 movies\n"
     ]
    }
   ],
   "source": [
    "# Partitioning Data by Decade \n",
    "tmdb_60 = tmdb_df.query('release_year < 1970')\n",
    "tmdb_70 = tmdb_df.query(' 1970 <= release_year < 1980')\n",
    "tmdb_80 = tmdb_df.query(' 1980 <= release_year < 1990')\n",
    "tmdb_90 = tmdb_df.query(' 1990 <= release_year < 2000')\n",
    "tmdb_00 = tmdb_df.query(' 2000 <= release_year < 2010')\n",
    "tmdb_10 = tmdb_df.query(' 2010 <= release_year <= 2015')\n",
    "\n",
    "tmdb_60_count = tmdb_60['id'].count()\n",
    "tmdb_70_count = tmdb_70['id'].count()\n",
    "tmdb_80_count = tmdb_80['id'].count()\n",
    "tmdb_90_count = tmdb_90['id'].count()\n",
    "tmdb_00_count = tmdb_00['id'].count()\n",
    "tmdb_10_count = tmdb_10['id'].count()\n",
    "\n",
    "# Counting number of movies by each year\n",
    "print(\"1960s: {} movies\".format(tmdb_60_count))\n",
    "print(\"1970s: {} movies\".format(tmdb_70_count))\n",
    "print(\"1980s: {} movies\".format(tmdb_80_count))\n",
    "print(\"1990s: {} movies\".format(tmdb_90_count))\n",
    "print(\"2000s: {} movies\".format(tmdb_00_count))\n",
    "print(\"2010s: {} movies\".format(tmdb_10_count))\n"
   ]
  },
  {
   "cell_type": "code",
   "execution_count": 22,
   "metadata": {},
   "outputs": [
    {
     "data": {
      "text/plain": [
       "(10767, 19)"
      ]
     },
     "execution_count": 22,
     "metadata": {},
     "output_type": "execute_result"
    }
   ],
   "source": [
    "# This is the shape of the dataset after cleaning\n",
    "tmdb_df.shape"
   ]
  },
  {
   "cell_type": "markdown",
   "metadata": {},
   "source": [
    "<a id='eda'></a>\n",
    "## Exploratory Data Analysis"
   ]
  },
  {
   "cell_type": "markdown",
   "metadata": {},
   "source": [
    "### Research Question 1 - What are the genres that are popular from year to year?"
   ]
  },
  {
   "cell_type": "markdown",
   "metadata": {},
   "source": [
    "In this posed question, the aim is to see the most dominant genre per decade, we can see it is comedy and daram. Below we're plotting Genre, Year and Count"
   ]
  },
  {
   "cell_type": "code",
   "execution_count": 23,
   "metadata": {
    "collapsed": true
   },
   "outputs": [],
   "source": [
    "tmdb_60_genres=tmdb_60.groupby(['genres']).popularity.count().sort_values(ascending=False)\n",
    "tmdb_70_genres=tmdb_70.groupby(['genres']).popularity.count().sort_values(ascending=False)\n",
    "tmdb_80_genres=tmdb_80.groupby(['genres']).popularity.count().sort_values(ascending=False)\n",
    "tmdb_90_genres=tmdb_90.groupby(['genres']).popularity.count().sort_values(ascending=False)\n",
    "tmdb_00_genres=tmdb_00.groupby(['genres']).popularity.count().sort_values(ascending=False)\n",
    "tmdb_10_genres=tmdb_10.groupby(['genres']).popularity.count().sort_values(ascending=False)"
   ]
  },
  {
   "cell_type": "code",
   "execution_count": 24,
   "metadata": {},
   "outputs": [
    {
     "data": {
      "image/png": "[encoded data removed]",
      "text/plain": [
       "<matplotlib.figure.Figure at 0x919cb00>"
      ]
     },
     "metadata": {},
     "output_type": "display_data"
    }
   ],
   "source": [
    "years = [\"60s\", \"70s\", \"80s\", \"90s\", \"2000s\", \"2010s\"]\n",
    "heights = [tmdb_60_genres[0], tmdb_70_genres[0],tmdb_80_genres[0],tmdb_90_genres[0],tmdb_00_genres[0],tmdb_10_genres[0]]\n",
    "labels =  [tmdb_60_genres.index[0], tmdb_70_genres.index[0],tmdb_80_genres.index[0],tmdb_90_genres.index[0],tmdb_00_genres.index[0],tmdb_10_genres.index[0]]\n",
    "\n",
    "tmdb_60_genres=tmdb_60_genres[:1]\n",
    "tmdb_70_genres=tmdb_70_genres[:1]\n",
    "tmdb_80_genres=tmdb_80_genres[:1]\n",
    "tmdb_90_genres=tmdb_90_genres.iloc[:1]\n",
    "tmdb_00_genres=tmdb_00_genres[:1]\n",
    "tmdb_10_genres=tmdb_10_genres[:1]\n",
    "\n",
    "decades_genres=pd.DataFrame(\n",
    " {'60s': tmdb_60_genres,\n",
    "  '70s': tmdb_70_genres,\n",
    "  '80s': tmdb_80_genres,\n",
    "  '90s': tmdb_90_genres,\n",
    "  '2000s': tmdb_00_genres,\n",
    "  '2010s': tmdb_10_genres,\n",
    " })\n",
    "decades_genres=decades_genres.T\n",
    "ax=decades_genres.plot(kind='bar',width=0.6, align='center', title='Notable Genre across decades');\n",
    "ax.set_xlabel('Decades')\n",
    "ax.set_ylabel('Movie Count');"
   ]
  },
  {
   "cell_type": "markdown",
   "metadata": {},
   "source": [
    "We can see from the output that we have two genres dominating all the decades, and the recent the decade the more movies it has."
   ]
  },
  {
   "cell_type": "markdown",
   "metadata": {},
   "source": [
    "### Research Question 2 - How many unique genres, What are their distribution?"
   ]
  },
  {
   "cell_type": "markdown",
   "metadata": {},
   "source": [
    "Below we will plot the distribution of each genre, across all years."
   ]
  },
  {
   "cell_type": "code",
   "execution_count": 25,
   "metadata": {},
   "outputs": [
    {
     "data": {
      "text/plain": [
       "Text(0,0.5,u'Movie Frequenct')"
      ]
     },
     "execution_count": 25,
     "metadata": {},
     "output_type": "execute_result"
    },
    {
     "data": {
      "image/png": "[encoded data removed]",
      "text/plain": [
       "<matplotlib.figure.Figure at 0xc890550>"
      ]
     },
     "metadata": {},
     "output_type": "display_data"
    }
   ],
   "source": [
    "ax=tmdb_df.groupby('genres')['id'].nunique().plot(kind='bar', title='All Genres Distribution');\n",
    "ax.set_ylabel('Movie Frequenct')"
   ]
  },
  {
   "cell_type": "markdown",
   "metadata": {},
   "source": [
    "We can see that we have around 20 geres, foreign is the least, on the contrary Drama is the highest."
   ]
  },
  {
   "cell_type": "markdown",
   "metadata": {},
   "source": [
    "### Research Question 3 - Which decade had the most movies, What are the movie distribution across the decades?"
   ]
  },
  {
   "cell_type": "markdown",
   "metadata": {},
   "source": [
    "The pie chart below plots the distribution of movies in the database across each decade, we can see an increase from decade to the the next one."
   ]
  },
  {
   "cell_type": "code",
   "execution_count": 37,
   "metadata": {},
   "outputs": [
    {
     "data": {
      "image/png": "[encoded data removed]",
      "text/plain": [
       "<matplotlib.figure.Figure at 0xcff54e0>"
      ]
     },
     "metadata": {},
     "output_type": "display_data"
    }
   ],
   "source": [
    "# Plotting Movies Distribution #\n",
    "slices = [tmdb_60_count,tmdb_70_count,tmdb_80_count,tmdb_90_count,tmdb_00_count,tmdb_10_count]\n",
    "plt.pie(slices,labels=years, shadow= True, autopct='%1.1f%%');\n",
    "plt.title('Movie Distribution across the decades');"
   ]
  },
  {
   "cell_type": "markdown",
   "metadata": {},
   "source": [
    "We can observe the recent the decade is, the more movies that slices has."
   ]
  },
  {
   "cell_type": "markdown",
   "metadata": {},
   "source": [
    "### Research Question 4 - What are the top profitable Movies"
   ]
  },
  {
   "cell_type": "markdown",
   "metadata": {},
   "source": [
    "This questions is challenging, because we will have to calculate the profit which will be deductin budget from revenue, but we have to do this only for both revenue and proft that have values. So we will start by doing a query of values of budget and revenus that are non zero and we will copy them into a new dataframe called tmdb_df_profit. We should have around 3855 columns. After that we will sort it according to our new calculated profit then present the results."
   ]
  },
  {
   "cell_type": "code",
   "execution_count": 27,
   "metadata": {
    "collapsed": true
   },
   "outputs": [],
   "source": [
    "tmdb_df_profit=tmdb_df[(tmdb_df['budget'] != 0) & (tmdb_df['revenue'] != 0)].copy()\n"
   ]
  },
  {
   "cell_type": "code",
   "execution_count": 28,
   "metadata": {
    "collapsed": true
   },
   "outputs": [],
   "source": [
    "tmdb_df_profit=tmdb_df[(tmdb_df['budget'] != 0) & (tmdb_df['revenue'] != 0)].copy()\n",
    "for c in ['budget','revenue']:\n",
    "    tmdb_df_profit['profit']=tmdb_df_profit['revenue']-tmdb_df_profit['budget']\n",
    "tmdb_df_profit.reset_index(drop=True)\n",
    "tmdb_df_profit.sort_values(ascending=False, by='profit',inplace=True)"
   ]
  },
  {
   "cell_type": "code",
   "execution_count": 29,
   "metadata": {},
   "outputs": [
    {
     "data": {
      "text/html": [
       "<div>\n",
       "<style scoped>\n",
       "    .dataframe tbody tr th:only-of-type {\n",
       "        vertical-align: middle;\n",
       "    }\n",
       "\n",
       "    .dataframe tbody tr th {\n",
       "        vertical-align: top;\n",
       "    }\n",
       "\n",
       "    .dataframe thead th {\n",
       "        text-align: right;\n",
       "    }\n",
       "</style>\n",
       "<table border=\"1\" class=\"dataframe\">\n",
       "  <thead>\n",
       "    <tr style=\"text-align: right;\">\n",
       "      <th></th>\n",
       "      <th>original_title</th>\n",
       "      <th>director</th>\n",
       "      <th>release_year</th>\n",
       "      <th>profit</th>\n",
       "      <th>genres</th>\n",
       "    </tr>\n",
       "  </thead>\n",
       "  <tbody>\n",
       "    <tr>\n",
       "      <th>0</th>\n",
       "      <td>Avatar</td>\n",
       "      <td>James Cameron</td>\n",
       "      <td>2009</td>\n",
       "      <td>2544505847</td>\n",
       "      <td>Action</td>\n",
       "    </tr>\n",
       "    <tr>\n",
       "      <th>1</th>\n",
       "      <td>Star Wars: The Force Awakens</td>\n",
       "      <td>J.J. Abrams</td>\n",
       "      <td>2015</td>\n",
       "      <td>1868178225</td>\n",
       "      <td>Action</td>\n",
       "    </tr>\n",
       "    <tr>\n",
       "      <th>2</th>\n",
       "      <td>Titanic</td>\n",
       "      <td>James Cameron</td>\n",
       "      <td>1997</td>\n",
       "      <td>1645034188</td>\n",
       "      <td>Drama</td>\n",
       "    </tr>\n",
       "    <tr>\n",
       "      <th>3</th>\n",
       "      <td>Jurassic World</td>\n",
       "      <td>Colin Trevorrow</td>\n",
       "      <td>2015</td>\n",
       "      <td>1363528810</td>\n",
       "      <td>Action</td>\n",
       "    </tr>\n",
       "    <tr>\n",
       "      <th>4</th>\n",
       "      <td>Furious 7</td>\n",
       "      <td>James Wan</td>\n",
       "      <td>2015</td>\n",
       "      <td>1316249360</td>\n",
       "      <td>Action</td>\n",
       "    </tr>\n",
       "    <tr>\n",
       "      <th>5</th>\n",
       "      <td>The Avengers</td>\n",
       "      <td>Joss Whedon</td>\n",
       "      <td>2012</td>\n",
       "      <td>1299557910</td>\n",
       "      <td>Science Fiction</td>\n",
       "    </tr>\n",
       "    <tr>\n",
       "      <th>6</th>\n",
       "      <td>Harry Potter and the Deathly Hallows: Part 2</td>\n",
       "      <td>David Yates</td>\n",
       "      <td>2011</td>\n",
       "      <td>1202817822</td>\n",
       "      <td>Adventure</td>\n",
       "    </tr>\n",
       "    <tr>\n",
       "      <th>7</th>\n",
       "      <td>Avengers: Age of Ultron</td>\n",
       "      <td>Joss Whedon</td>\n",
       "      <td>2015</td>\n",
       "      <td>1125035767</td>\n",
       "      <td>Action</td>\n",
       "    </tr>\n",
       "    <tr>\n",
       "      <th>8</th>\n",
       "      <td>Frozen</td>\n",
       "      <td>Chris Buck|Jennifer Lee</td>\n",
       "      <td>2013</td>\n",
       "      <td>1124219009</td>\n",
       "      <td>Animation</td>\n",
       "    </tr>\n",
       "    <tr>\n",
       "      <th>9</th>\n",
       "      <td>The Net</td>\n",
       "      <td>Irwin Winkler</td>\n",
       "      <td>1995</td>\n",
       "      <td>1084279658</td>\n",
       "      <td>Crime</td>\n",
       "    </tr>\n",
       "  </tbody>\n",
       "</table>\n",
       "</div>"
      ],
      "text/plain": [
       "                                 original_title                 director  \\\n",
       "0                                        Avatar            James Cameron   \n",
       "1                  Star Wars: The Force Awakens              J.J. Abrams   \n",
       "2                                       Titanic            James Cameron   \n",
       "3                                Jurassic World          Colin Trevorrow   \n",
       "4                                     Furious 7                James Wan   \n",
       "5                                  The Avengers              Joss Whedon   \n",
       "6  Harry Potter and the Deathly Hallows: Part 2              David Yates   \n",
       "7                       Avengers: Age of Ultron              Joss Whedon   \n",
       "8                                        Frozen  Chris Buck|Jennifer Lee   \n",
       "9                                       The Net            Irwin Winkler   \n",
       "\n",
       "   release_year      profit           genres  \n",
       "0          2009  2544505847           Action  \n",
       "1          2015  1868178225           Action  \n",
       "2          1997  1645034188            Drama  \n",
       "3          2015  1363528810           Action  \n",
       "4          2015  1316249360           Action  \n",
       "5          2012  1299557910  Science Fiction  \n",
       "6          2011  1202817822        Adventure  \n",
       "7          2015  1125035767           Action  \n",
       "8          2013  1124219009        Animation  \n",
       "9          1995  1084279658            Crime  "
      ]
     },
     "execution_count": 29,
     "metadata": {},
     "output_type": "execute_result"
    }
   ],
   "source": [
    "tmdb_df_profit.iloc[:, np.r_[5,7,16,19,11]].reset_index(drop=True)[0:10]"
   ]
  },
  {
   "cell_type": "markdown",
   "metadata": {},
   "source": [
    "We can see here the top profitable movies, which make sense having Avatar and Titanic as they are very popular. Action is one of the dominating genres."
   ]
  },
  {
   "cell_type": "markdown",
   "metadata": {},
   "source": [
    "### Research Question 5 - What is the most profitable movie in each Genre?"
   ]
  },
  {
   "cell_type": "markdown",
   "metadata": {},
   "source": [
    "Since our data is sorted, we will need to group by genres then take the first occurrence of each unique genre. Luckily we can do this via function first()\n",
    "https://pandas.pydata.org/pandas-docs/stable/generated/pandas.DataFrame.first.html"
   ]
  },
  {
   "cell_type": "code",
   "execution_count": 30,
   "metadata": {},
   "outputs": [
    {
     "data": {
      "text/plain": [
       "genres\n",
       "Action                                                   Avatar\n",
       "Adventure          Harry Potter and the Deathly Hallows: Part 2\n",
       "Animation                                                Frozen\n",
       "Comedy                                               Inside Out\n",
       "Crime                                                   The Net\n",
       "Documentary                                     Fahrenheit 9/11\n",
       "Drama                                                   Titanic\n",
       "Family                                                  Minions\n",
       "Fantasy                                              Spider-Man\n",
       "History                                            Pearl Harbor\n",
       "Horror                                                     Jaws\n",
       "Music                                                Happy Feet\n",
       "Mystery                                         The Sixth Sense\n",
       "Romance                                            Pretty Woman\n",
       "Science Fiction                                    The Avengers\n",
       "TV Movie                                             Doctor Who\n",
       "Thriller                                      The Da Vinci Code\n",
       "War                       The Hunger Games: Mockingjay - Part 2\n",
       "Western                                            The Revenant\n",
       "Name: original_title, dtype: object"
      ]
     },
     "execution_count": 30,
     "metadata": {},
     "output_type": "execute_result"
    }
   ],
   "source": [
    "tmdb_df_profit.groupby(['genres'])['original_title'].first()"
   ]
  },
  {
   "cell_type": "markdown",
   "metadata": {},
   "source": [
    "### Research Question 6 - What is the most repetitive genre for the 'highest profitable' movies ?"
   ]
  },
  {
   "cell_type": "markdown",
   "metadata": {},
   "source": [
    "Now in this question, we will need to mark the movies and label them in an Ordinal way so we can differentiate between them. We will label them into Low, Medium, Moderately High and High. Then we can do our queries on the chosen label. After that we will run mode to get the most common genre for the high profitable movies."
   ]
  },
  {
   "cell_type": "code",
   "execution_count": 31,
   "metadata": {},
   "outputs": [
    {
     "data": {
      "text/plain": [
       "0    Comedy\n",
       "dtype: object"
      ]
     },
     "execution_count": 31,
     "metadata": {},
     "output_type": "execute_result"
    }
   ],
   "source": [
    "tmdb_df_profit.describe()\n",
    "bin_edges = [-4.139124e+08, -1.321535e+06, 2.002019e+07, 8.170331e+07, 2.544506e+09]\n",
    "bin_names = ['Low', 'Medium' , 'Moderately High', 'High'] \n",
    "tmdb_df_profit['profit_level'] = pd.cut(tmdb_df_profit['profit'], bin_edges, labels=bin_names)\n",
    "tmdb_df_profit.query('profit_level == \"High\"')['genres'].mode()"
   ]
  },
  {
   "cell_type": "markdown",
   "metadata": {},
   "source": [
    "### Research Question 7 - Which directors and actors work with each other the most?"
   ]
  },
  {
   "cell_type": "markdown",
   "metadata": {},
   "source": [
    "Here we will group by director and the formated cast so we can see the relationship between the director and the star. Fun fact, we can see indeed Tim burton and Johnny Depp"
   ]
  },
  {
   "cell_type": "code",
   "execution_count": 32,
   "metadata": {},
   "outputs": [
    {
     "data": {
      "text/plain": [
       "director            cast              \n",
       "Woody Allen         Woody Allen           24\n",
       "Clint Eastwood      Clint Eastwood        20\n",
       "Tyler Perry         Tyler Perry           12\n",
       "Roger Corman        Vincent Price          7\n",
       "Sylvester Stallone  Sylvester Stallone     7\n",
       "Dennis Dugan        Adam Sandler           7\n",
       "Gerald Thomas       Sid James              7\n",
       "Robert Harmon       Tom Selleck            6\n",
       "Steven Soderbergh   George Clooney         6\n",
       "Keoni Waxman        Steven Seagal          6\n",
       "Adam McKay          Will Ferrell           6\n",
       "Michael Moore       Michael Moore          6\n",
       "Martin Scorsese     Leonardo DiCaprio      6\n",
       "Tim Burton          Johnny Depp            6\n",
       "Martin Scorsese     Robert De Niro         6\n",
       "Blake Edwards       Peter Sellers          6\n",
       "Richard Donner      Mel Gibson             6\n",
       "Mel Brooks          Mel Brooks             5\n",
       "Jeff Tremaine       Johnny Knoxville       5\n",
       "Charles Grosvenor   John Ingle             5\n",
       "Hal Needham         Burt Reynolds          5\n",
       "Gore Verbinski      Johnny Depp            5\n",
       "Kenneth Branagh     Kenneth Branagh        5\n",
       "Tony Scott          Denzel Washington      5\n",
       "Michael Winner      Charles Bronson        5\n",
       "Name: id, dtype: int64"
      ]
     },
     "execution_count": 32,
     "metadata": {},
     "output_type": "execute_result"
    }
   ],
   "source": [
    "tmdb_df.groupby(['director','cast']).count()['id'].sort_values(ascending=False)[0:25]"
   ]
  },
  {
   "cell_type": "markdown",
   "metadata": {},
   "source": [
    "### Research Question 8 - Is there a Corelation between movie score and profit?"
   ]
  },
  {
   "cell_type": "markdown",
   "metadata": {},
   "source": [
    "We can see profitable movies start from rating 6+"
   ]
  },
  {
   "cell_type": "code",
   "execution_count": 33,
   "metadata": {},
   "outputs": [
    {
     "data": {
      "text/plain": [
       "Text(0.5,1,u'Profit and Vote average co-relation')"
      ]
     },
     "execution_count": 33,
     "metadata": {},
     "output_type": "execute_result"
    },
    {
     "data": {
      "image/png": "[encoded data removed]",
      "text/plain": [
       "<matplotlib.figure.Figure at 0xd132940>"
      ]
     },
     "metadata": {},
     "output_type": "display_data"
    }
   ],
   "source": [
    "#Research Question 5 - Is there a Corelation between movie score and profit?\n",
    "ax=tmdb_df_profit.plot(x='vote_average', y='profit', kind='scatter')\n",
    "ax.set_title('Profit and Vote average co-relation')"
   ]
  },
  {
   "cell_type": "markdown",
   "metadata": {},
   "source": [
    "### Research Question 9 - Is there a Corelation between movie score and popularity?"
   ]
  },
  {
   "cell_type": "markdown",
   "metadata": {},
   "source": [
    "Below we can see a positive corelation between votate_average and popularity."
   ]
  },
  {
   "cell_type": "code",
   "execution_count": 34,
   "metadata": {},
   "outputs": [
    {
     "data": {
      "text/plain": [
       "Text(0.5,1,u'Profit and popularity co-relation')"
      ]
     },
     "execution_count": 34,
     "metadata": {},
     "output_type": "execute_result"
    },
    {
     "data": {
      "image/png": "[encoded data removed]",
      "text/plain": [
       "<matplotlib.figure.Figure at 0xae09710>"
      ]
     },
     "metadata": {},
     "output_type": "display_data"
    }
   ],
   "source": [
    "ax=tmdb_df_profit.plot(x='vote_average', y='popularity', kind='scatter')\n",
    "ax.set_title('Profit and popularity co-relation')"
   ]
  },
  {
   "cell_type": "markdown",
   "metadata": {},
   "source": [
    "### Research Question 10 - Whom are some of the dominant actors?"
   ]
  },
  {
   "cell_type": "code",
   "execution_count": 35,
   "metadata": {},
   "outputs": [
    {
     "data": {
      "text/plain": [
       "cast\n",
       "Nicolas Cage             50\n",
       "Robert De Niro           42\n",
       "Bruce Willis             39\n",
       "Clint Eastwood           38\n",
       "Johnny Depp              37\n",
       "Tom Hanks                37\n",
       "Sylvester Stallone       36\n",
       "Jean-Claude Van Damme    35\n",
       "Steven Seagal            35\n",
       "John Travolta            33\n",
       "Robin Williams           33\n",
       "Denzel Washington        33\n",
       "Tom Cruise               31\n",
       "Harrison Ford            30\n",
       "Steve Martin             30\n",
       "John Cusack              30\n",
       "Name: id, dtype: int64"
      ]
     },
     "execution_count": 35,
     "metadata": {},
     "output_type": "execute_result"
    }
   ],
   "source": [
    "tmdb_df.groupby('cast').count()['id'].sort_values(ascending=False)[0:16]\n",
    "#tmdb_df.groupby('cast').count()['id'].sort_values(ascending=False)[0:10].plot(kind='bar')"
   ]
  },
  {
   "cell_type": "code",
   "execution_count": 36,
   "metadata": {},
   "outputs": [
    {
     "data": {
      "text/html": [
       "<div>\n",
       "<style scoped>\n",
       "    .dataframe tbody tr th:only-of-type {\n",
       "        vertical-align: middle;\n",
       "    }\n",
       "\n",
       "    .dataframe tbody tr th {\n",
       "        vertical-align: top;\n",
       "    }\n",
       "\n",
       "    .dataframe thead th {\n",
       "        text-align: right;\n",
       "    }\n",
       "</style>\n",
       "<table border=\"1\" class=\"dataframe\">\n",
       "  <thead>\n",
       "    <tr style=\"text-align: right;\">\n",
       "      <th></th>\n",
       "      <th>original_title</th>\n",
       "      <th>genres</th>\n",
       "      <th>vote_count</th>\n",
       "      <th>release_year</th>\n",
       "      <th>profit_level</th>\n",
       "    </tr>\n",
       "  </thead>\n",
       "  <tbody>\n",
       "    <tr>\n",
       "      <th>0</th>\n",
       "      <td>The Dark Knight</td>\n",
       "      <td>Drama</td>\n",
       "      <td>8432</td>\n",
       "      <td>2008</td>\n",
       "      <td>High</td>\n",
       "    </tr>\n",
       "    <tr>\n",
       "      <th>1</th>\n",
       "      <td>Forrest Gump</td>\n",
       "      <td>Comedy</td>\n",
       "      <td>4856</td>\n",
       "      <td>1994</td>\n",
       "      <td>High</td>\n",
       "    </tr>\n",
       "    <tr>\n",
       "      <th>2</th>\n",
       "      <td>Schindler's List</td>\n",
       "      <td>Drama</td>\n",
       "      <td>2632</td>\n",
       "      <td>1993</td>\n",
       "      <td>High</td>\n",
       "    </tr>\n",
       "    <tr>\n",
       "      <th>3</th>\n",
       "      <td>The Godfather</td>\n",
       "      <td>Drama</td>\n",
       "      <td>3970</td>\n",
       "      <td>1972</td>\n",
       "      <td>High</td>\n",
       "    </tr>\n",
       "    <tr>\n",
       "      <th>4</th>\n",
       "      <td>Pulp Fiction</td>\n",
       "      <td>Thriller</td>\n",
       "      <td>5343</td>\n",
       "      <td>1994</td>\n",
       "      <td>High</td>\n",
       "    </tr>\n",
       "    <tr>\n",
       "      <th>5</th>\n",
       "      <td>Fight Club</td>\n",
       "      <td>Drama</td>\n",
       "      <td>5923</td>\n",
       "      <td>1999</td>\n",
       "      <td>Moderately High</td>\n",
       "    </tr>\n",
       "    <tr>\n",
       "      <th>6</th>\n",
       "      <td>The Godfather: Part II</td>\n",
       "      <td>Drama</td>\n",
       "      <td>2131</td>\n",
       "      <td>1974</td>\n",
       "      <td>Moderately High</td>\n",
       "    </tr>\n",
       "    <tr>\n",
       "      <th>7</th>\n",
       "      <td>Whiplash</td>\n",
       "      <td>Drama</td>\n",
       "      <td>2372</td>\n",
       "      <td>2014</td>\n",
       "      <td>Medium</td>\n",
       "    </tr>\n",
       "    <tr>\n",
       "      <th>8</th>\n",
       "      <td>The Shawshank Redemption</td>\n",
       "      <td>Drama</td>\n",
       "      <td>5754</td>\n",
       "      <td>1994</td>\n",
       "      <td>Medium</td>\n",
       "    </tr>\n",
       "  </tbody>\n",
       "</table>\n",
       "</div>"
      ],
      "text/plain": [
       "             original_title    genres  vote_count  release_year  \\\n",
       "0           The Dark Knight     Drama        8432          2008   \n",
       "1              Forrest Gump    Comedy        4856          1994   \n",
       "2          Schindler's List     Drama        2632          1993   \n",
       "3             The Godfather     Drama        3970          1972   \n",
       "4              Pulp Fiction  Thriller        5343          1994   \n",
       "5                Fight Club     Drama        5923          1999   \n",
       "6    The Godfather: Part II     Drama        2131          1974   \n",
       "7                  Whiplash     Drama        2372          2014   \n",
       "8  The Shawshank Redemption     Drama        5754          1994   \n",
       "\n",
       "      profit_level  \n",
       "0             High  \n",
       "1             High  \n",
       "2             High  \n",
       "3             High  \n",
       "4             High  \n",
       "5  Moderately High  \n",
       "6  Moderately High  \n",
       "7           Medium  \n",
       "8           Medium  "
      ]
     },
     "execution_count": 36,
     "metadata": {},
     "output_type": "execute_result"
    }
   ],
   "source": [
    "tmdb_df_profit.query('vote_average > 8 and vote_count > 217').iloc[:, np.r_[5,11,14,16,20]].reset_index(drop=True)"
   ]
  },
  {
   "cell_type": "markdown",
   "metadata": {},
   "source": [
    "<a id='conclusions'></a>\n",
    "## Conclusions\n",
    "\n",
    "\n",
    "- We can see that Drama and Comedy are dominiating most profitable genres and overall genre count.\n",
    "\n",
    "- Popular movies tend to get more vote counts.\n",
    "\n",
    "- Most popular movies with a rating higher than 8 and vote_count higher than average are likely to be Drama.\n",
    "\n",
    "- James Cameron is one of the best profit making directors.\n",
    "\n",
    "\n",
    "One of the challenges that we've faced is not having the profit column deduced, and when I wanted to computer it I've found I have lots of revenues missing, then again I've found lots of budget values missing. In the near future, I will write a web craweler that takes the budget from IMDB and updates the missing ones. I've went through the html code of imdb which seemed plausible and sturcture was easy straight forward.\n",
    "\n",
    "Other challenges where multi-valued columns in genres and cast, but this was overcomed by splitting and taking the first value.\n"
   ]
  }
 ],
 "metadata": {
  "kernelspec": {
   "display_name": "Python [conda env:Anaconda2]",
   "language": "python",
   "name": "conda-env-Anaconda2-py"
  },
  "language_info": {
   "codemirror_mode": {
    "name": "ipython",
    "version": 2
   },
   "file_extension": ".py",
   "mimetype": "text/x-python",
   "name": "python",
   "nbconvert_exporter": "python",
   "pygments_lexer": "ipython2",
   "version": "2.7.13"
  }
 },
 "nbformat": 4,
 "nbformat_minor": 2
}
